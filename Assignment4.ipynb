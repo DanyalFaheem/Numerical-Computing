{
 "cells": [
  {
   "cell_type": "code",
   "execution_count": 11,
   "metadata": {},
   "outputs": [],
   "source": [
    "# For matrices and arrays\n",
    "import numpy as np\n",
    "# For linear algebra functionalities\n",
    "import scipy.linalg as la\n",
    "# For floating point operations counting\n",
    "# To install, pip install python-papi\n",
    "from pypapi import events, papi_high as high"
   ]
  },
  {
   "cell_type": "code",
   "execution_count": 12,
   "metadata": {},
   "outputs": [
    {
     "name": "stdout",
     "output_type": "stream",
     "text": [
      "[[ 1.          0.          0.        ]\n",
      " [-0.69230769  1.          0.        ]\n",
      " [-0.30769231 -0.69291339  1.        ]]\n",
      "[[130.          -3.           0.        ]\n",
      " [  0.          87.92307692   0.        ]\n",
      " [  0.           0.         120.        ]]\n",
      "[0.78740157 0.78740157 4.82283465]\n",
      "[[0.00769231 0.00026247 0.        ]\n",
      " [0.00532544 0.01155529 0.        ]\n",
      " [0.00605694 0.00808757 0.00833333]]\n",
      "[[ 0.00787402  0.00026247 -0.        ]\n",
      " [ 0.00787402  0.01137358 -0.        ]\n",
      " [ 0.00656168  0.00577428  0.00833333]]\n"
     ]
    }
   ],
   "source": [
    "# Question 1\n",
    "# Initialzing our matrices here\n",
    "A = np.array([[130, -3, 0], [-90, 90, 0],\n",
    "             [-40, -60, 120]])\n",
    "B = np.array([100, 0, 500])\n",
    "# Factorizing LU\n",
    "P, L, U = la.lu(A)\n",
    "LU, piv = la.lu_factor(A)\n",
    "# Solving the factorized system\n",
    "X = la.lu_solve((LU, piv), B)\n",
    "# Print the matrices\n",
    "print(L)\n",
    "print(U)\n",
    "print(X)\n",
    "\n",
    "# Part b, c, d\n",
    "# Calculate inverses of L U\n",
    "\n",
    "high.start_counters([events.PAPI_FP_OPS, ])\n",
    "Linv = la.inv(L)\n",
    "Uinv = la.inv(U)\n",
    "# Get inverse of A\n",
    "Ainv = np.matmul(Linv, Uinv)\n",
    "x1 = high.stop_counters()\n",
    "print(Ainv)\n",
    "# Get inverse of A directly\n",
    "high.start_counters([events.PAPI_FP_OPS, ])\n",
    "print(la.inv(A))\n",
    "x = high.stop_counters()\n",
    "# Get floating point operations"
   ]
  },
  {
   "cell_type": "code",
   "execution_count": 13,
   "metadata": {},
   "outputs": [
    {
     "name": "stdout",
     "output_type": "stream",
     "text": [
      "[[1.         0.         0.        ]\n",
      " [0.57692308 1.         0.        ]\n",
      " [0.34615385 0.6        1.        ]]\n",
      "[[52.         20.         25.        ]\n",
      " [ 0.         38.46153846  5.57692308]\n",
      " [ 0.          0.         43.        ]]\n",
      "[40.05813953 71.31395349 51.62790698]\n"
     ]
    }
   ],
   "source": [
    "# Question 2\n",
    "# Initialzing our matrices here\n",
    "A = np.array([[52, 20, 25], [30, 50, 20],\n",
    "             [18, 30, 55]])\n",
    "B = np.array([4800,5800,5700])\n",
    "# Factorizing LU\n",
    "P, L, U = la.lu(A)\n",
    "LU, piv = la.lu_factor(A)\n",
    "# Solving the factorized system\n",
    "X = la.lu_solve((LU, piv), B)\n",
    "# Print the matrices\n",
    "print(L)\n",
    "print(U)\n",
    "print(X)"
   ]
  },
  {
   "cell_type": "code",
   "execution_count": 14,
   "metadata": {},
   "outputs": [
    {
     "name": "stdout",
     "output_type": "stream",
     "text": [
      "[[ 6.32455532  0.          0.        ]\n",
      " [-3.16227766  5.47722558  0.        ]\n",
      " [ 0.         -3.65148372  2.5819889 ]]\n",
      "[[ 6.32455532 -3.16227766  0.        ]\n",
      " [ 0.          5.47722558 -3.65148372]\n",
      " [ 0.          0.          2.5819889 ]]\n",
      "[ 6.20438877 14.33207359 37.36783432]\n",
      "[ 7.1135 12.265  14.4725]\n"
     ]
    }
   ],
   "source": [
    "# Question 3\n",
    "# Initialzing our matrices here\n",
    "A = np.array([[40, -20, 0], [-20, 40, -20],\n",
    "             [0, -20, 20]])\n",
    "B = np.array([39.24, 58.88, 44.15])\n",
    "\n",
    "# Factorizing LL\n",
    "high.start_counters([events.PAPI_FP_OPS, ])\n",
    "L = np.linalg.cholesky(A)\n",
    "print(L)\n",
    "print(np.transpose(L))\n",
    "# Solving the factorized system\n",
    "Y = la.solve(L, B)\n",
    "print(Y)\n",
    "X = la.solve(np.transpose(L), Y)\n",
    "print(X)\n",
    "x = high.stop_counters()\n",
    "# Get floating point operations\n"
   ]
  },
  {
   "cell_type": "code",
   "execution_count": null,
   "metadata": {},
   "outputs": [],
   "source": [
    "# Question 4\n",
    "# Initialzing our matrices here, using from Q5\n",
    "A = np.array([[-0.002, 4, 4], [-2, 2.906, -5.387],\n",
    "             [3, -4.031, -3.112]])\n",
    "B = np.array([7.998,-4.481,-4.143])\n",
    "# Start timers\n",
    "high.start_counters([events.PAPI_FP_OPS, ])\n",
    "# Factorizing LU\n",
    "P, L, U = la.lu(A)\n",
    "LU, piv = la.lu_factor(A)\n",
    "# Solving the factorized system\n",
    "X = la.lu_solve((LU, piv), B)\n",
    "x = high.stop_counters()\n",
    "# Get floating point operations"
   ]
  },
  {
   "cell_type": "code",
   "execution_count": 18,
   "metadata": {},
   "outputs": [
    {
     "name": "stdout",
     "output_type": "stream",
     "text": [
      "[1. 1. 1.]\n",
      "[ 1.31815298 -0.89481838 -0.14027254]\n",
      "[ 1.31815298 -0.89481838 -0.14027254]\n"
     ]
    }
   ],
   "source": [
    "# Question 5\n",
    "# Initialzing our matrices here\n",
    "A = np.array([[-0.002, 4, 4], [-2, 2.906, -5.387],\n",
    "             [3, -4.031, -3.112]])\n",
    "B = np.array([7.998,-4.481,-4.143])\n",
    "\n",
    "# Solving the factorized system\n",
    "X = la.solve(A, B)\n",
    "print(X)\n",
    "# Part B\n",
    "A = np.array([[3, -4.031, -3.112], [-2, 2.906, -5.387],\n",
    "             [-0.002, 4, 4]])\n",
    "B = np.array([7.998,-4.481,-4.143])\n",
    "\n",
    "# Solving the factorized system\n",
    "X = la.solve(A, B)\n",
    "print(X)\n",
    "# Part C\n",
    "A = np.array([[3, -4.031, -3.112], [-2, 2.906, -5.387],\n",
    "             [-0.002, 4, 4]])\n",
    "B = np.array([7.998,-4.481,-4.143])\n",
    "\n",
    "# Solving the factorized system\n",
    "X = la.solve(A, B)\n",
    "print(X)"
   ]
  },
  {
   "cell_type": "code",
   "execution_count": 16,
   "metadata": {},
   "outputs": [
    {
     "name": "stdout",
     "output_type": "stream",
     "text": [
      "[1.   1.75 1.25 0.75]\n"
     ]
    }
   ],
   "source": [
    "# Question 6\n",
    "# Initialzing our matrices here\n",
    "A = np.array([[4, -1, -1, 0], [-1, 0.25, 0.25, -1],\n",
    "             [4, 0, -1, -1], [0, -1, -1, 4]])\n",
    "B = np.array([1,-1,2,0])\n",
    "# Factorizing LU\n",
    "P, L, U = la.lu(A)\n",
    "LU, piv = la.lu_factor(A)\n",
    "# Solving the factorized system\n",
    "X = la.lu_solve((LU, piv), B)\n",
    "print(X)"
   ]
  },
  {
   "cell_type": "code",
   "execution_count": null,
   "metadata": {},
   "outputs": [],
   "source": []
  }
 ],
 "metadata": {
  "interpreter": {
   "hash": "7fee64b6d10f71b2ad32d2aedca1959ec8ccaf90c3c6db5aa37e1a96c8621a02"
  },
  "kernelspec": {
   "display_name": "Python 3.8.8 ('DIP')",
   "language": "python",
   "name": "python3"
  },
  "language_info": {
   "codemirror_mode": {
    "name": "ipython",
    "version": 3
   },
   "file_extension": ".py",
   "mimetype": "text/x-python",
   "name": "python",
   "nbconvert_exporter": "python",
   "pygments_lexer": "ipython3",
   "version": "3.8.8"
  },
  "orig_nbformat": 4
 },
 "nbformat": 4,
 "nbformat_minor": 2
}
