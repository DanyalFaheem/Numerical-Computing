{
 "cells": [
  {
   "cell_type": "code",
   "execution_count": 26,
   "metadata": {},
   "outputs": [
    {
     "name": "stdout",
     "output_type": "stream",
     "text": [
      "The partial fractions are: (No space between x and constant means +)\n",
      "['2/9(x-1)', '-11/18(x2)', '10/7(x3)', '-5/126(x-4)']\n"
     ]
    }
   ],
   "source": [
    "import sympy\n",
    "from fractions import Fraction\n",
    "\n",
    "# Assigning x as variable\n",
    "x = sympy.symbols('x')\n",
    "\n",
    "# Creating our function expression\n",
    "f = (x**3) + 3*(x**2) - 5*x + 1\n",
    "xValues = [-1, +2, +3, -4]\n",
    "partialFractions = []\n",
    "for y in xValues:\n",
    "    temp = 1\n",
    "    for z in xValues:\n",
    "        if y != z:\n",
    "            # Creating our numerators\n",
    "            temp *= (y - z)\n",
    "    # Making fractions by putting in values in our function\n",
    "    partialFractions.append(str(Fraction(int(f.subs(x, y)), temp)) + '(x' + str(y) + \")\")\n",
    "print(\"The partial fractions are: (No space between x and constant means +)\")\n",
    "print(partialFractions)     "
   ]
  },
  {
   "cell_type": "code",
   "execution_count": 28,
   "metadata": {},
   "outputs": [
    {
     "name": "stdout",
     "output_type": "stream",
     "text": [
      "Part A.\n",
      "The Table is as follows: \n",
      "\n",
      "[[0.6, 0.62, 0.64, 0.66, 0.68, 0.7], [20, 50, 60, 64, 70, 54], [125.0, 75.0, 66.0, 67.0, 78.0], [37.5, 63.75, 66.75, 69.75], [68.125, 66.25, 68.25], [66.48437, 67.5], [67.19531], []]\n",
      "The final answer is,  67.19531\n"
     ]
    }
   ],
   "source": [
    "import sympy\n",
    "import numpy as np\n",
    "from math import ceil\n",
    "from copy import deepcopy\n",
    "# Creating our initial values here\n",
    "xValues = [0.6, 0.62, 0.64, 0.66, 0.68, 0.70]\n",
    "yValues = [20, 50, 60, 64, 70, 54]\n",
    "\n",
    "\n",
    "#Part A\n",
    "# Value to be interpolated at\n",
    "xValue = 0.67\n",
    "# Making intial table\n",
    "Table = [xValues, yValues]\n",
    "temp = []\n",
    "for i in range(len(xValues)):\n",
    "    temp1 = Table[len(Table) - 1]\n",
    "    # temp2 = Table[len(Table) - 2]\n",
    "    index = i + 1\n",
    "    # Calculating each value through the formula\n",
    "    for y in range(1, len(temp1)):\n",
    "        temp.append(round(((temp1[y] * (xValue - xValues[index - (i + 1)])) - (temp1[y - 1] * (xValue - xValues[index]))) / (xValues[index] - xValues[index - (i + 1)]), 5))\n",
    "        index += 1\n",
    "    Table.append(deepcopy(temp))\n",
    "    temp.clear()\n",
    "\n",
    "print(\"\\nPart A.\\nThe Table is as follows: \\n\")\n",
    "print (Table)\n",
    "print (\"The final answer is, \", Table[len(Table) -2][0])\n",
    "\n",
    "\n",
    "\n",
    "#Part B\n",
    "dividedTable = [xValues, yValues]\n",
    "temp = []\n",
    "for i in range(len(xValues)):\n",
    "    temp1 = dividedTable[len(dividedTable) - 1]\n",
    "    index = i + 1\n",
    "    for y in range(1, len(temp1)):\n",
    "        temp.append(round((temp1[y] - temp1[y - 1]) / (xValues[index] - xValues[index - (i + 1)]), 5))\n",
    "        index += 1\n",
    "    dividedTable.append(deepcopy(temp))\n",
    "    temp.clear()\n",
    "print(\"\\nPart B.\\nThe Table is as follows: \\n\")\n",
    "print (dividedTable)\n",
    "\n",
    "\n",
    "#Part C\n",
    "dividedTable = [xValues, yValues]\n",
    "temp = []\n",
    "for i in range(len(xValues)):\n",
    "    temp1 = dividedTable[len(dividedTable) - 1]\n",
    "    index = i + 1\n",
    "    for y in range(1, len(temp1)):\n",
    "        temp.append(round((temp1[y] - temp1[y - 1]) / (xValues[index] - xValues[index - (i + 1)]), 5))\n",
    "        index += 1\n",
    "    dividedTable.append(deepcopy(temp))\n",
    "    temp.clear()\n",
    "print(\"\\nPart D.\\nThe Table is as follows: \\n\")\n",
    "print (dividedTable)\n",
    "\n",
    "#Part D\n",
    "dividedTable = [xValues, yValues]\n",
    "temp = []\n",
    "for i in range(len(xValues)):\n",
    "    temp1 = dividedTable[len(dividedTable) - 1]\n",
    "    index = i + 1\n",
    "    for y in range(1, len(temp1)):\n",
    "        temp.append(round((temp1[y] - temp1[y - 1]) / (xValues[index] - xValues[index - (i + 1)]), 5))\n",
    "        index += 1\n",
    "    dividedTable.append(deepcopy(temp))\n",
    "    temp.clear()\n",
    "print(\"\\nPart D.\\nThe Table is as follows: \\n\")\n",
    "print (dividedTable)\n"
   ]
  },
  {
   "cell_type": "code",
   "execution_count": 31,
   "metadata": {},
   "outputs": [
    {
     "name": "stdout",
     "output_type": "stream",
     "text": [
      "\n",
      "The Table is as follows: \n",
      "\n",
      "[[1950, 1960, 1970, 1980, 1990, 2000], [151326, 179323, 203302, 226542, 249633, 281422], [2799.7, 2397.9, 2324.0, 2309.1, 3178.9], [-20.09, -3.695, -0.745, 43.49], [0.5465, 0.09833, 1.4745], [-0.0112, 0.0344], [0.00091], []]\n",
      "\n",
      "The final results for the three x values are:\n",
      "[15705074.799999999, -327043.09375, 573222630.0]\n"
     ]
    }
   ],
   "source": [
    "import sympy\n",
    "import numpy as np\n",
    "from math import ceil\n",
    "from copy import deepcopy\n",
    "# Intializing our initial values\n",
    "xValues = [1950, 1960, 1970, 1980, 1990, 2000]\n",
    "yValues = [151326, 179323, 203302, 226542, 249633, 281422]\n",
    "\n",
    "# Initializing our table\n",
    "dividedTable = [xValues, yValues]\n",
    "temp = []\n",
    "for i in range(len(xValues)):\n",
    "    temp1 = dividedTable[len(dividedTable) - 1]\n",
    "    index = i + 1\n",
    "    for y in range(1, len(temp1)):\n",
    "        # Adding values to table according to table\n",
    "        temp.append(round((temp1[y] - temp1[y - 1]) / (xValues[index] - xValues[index - (i + 1)]), 5))\n",
    "        index += 1\n",
    "    dividedTable.append(deepcopy(temp))\n",
    "    temp.clear()\n",
    "print(\"\\nThe Table is as follows: \\n\")\n",
    "print(dividedTable)\n",
    "\n",
    "# Doing it for all three values at once\n",
    "Value = [1940, 1975, 2020]\n",
    "# Initializing our results sum\n",
    "Results = [yValues[0], yValues[0], yValues[len(yValues) - 1]]\n",
    "for y in range(len(Results)):\n",
    "    for i in range(2, len(xValues)):\n",
    "        Sum = 1\n",
    "        for j in range(i - 1):\n",
    "            # Calculating each (x - x0)(x - x1)...\n",
    "            Sum *= (Value[y] - xValues[j])\n",
    "        # Multiplying with y values\n",
    "        Results[y] += Sum * Table[i][0]\n",
    "\n",
    "print(\"\\nThe final results for the three x values are:\")\n",
    "print(Results)\n",
    "\n"
   ]
  },
  {
   "cell_type": "code",
   "execution_count": 32,
   "metadata": {},
   "outputs": [
    {
     "name": "stdout",
     "output_type": "stream",
     "text": [
      "\n",
      "The Table is as follows: \n",
      "\n",
      "[[0, 0, 3, 3, 5, 5, 8, 8, 13, 13], [0, 0, 225, 225, 383, 383, 623, 623, 993, 993], [79.0, 80.0, 74.0], [], [], [], [], [], [], [], [], []]\n"
     ]
    }
   ],
   "source": [
    "import sympy\n",
    "import numpy as np\n",
    "from math import ceil\n",
    "from copy import deepcopy\n",
    "xValues = [0, 0, 3, 3, 5, 5, 8, 8, 13, 13]\n",
    "yValues = [0, 0, 225, 225, 383, 383, 623, 623, 993, 993]\n",
    "\n",
    "\n",
    "dividedTable = [xValues, yValues]\n",
    "temp = []\n",
    "for i in range(len(xValues)):\n",
    "    temp1 = dividedTable[len(dividedTable) - 1]\n",
    "    index = i + 1\n",
    "    for y in range(1, len(temp1)):\n",
    "        if xValues[index] != 0 and xValues[index - (i + 1)] != 0 and (xValues[index] - xValues[index - (i + 1)]) != 0: \n",
    "            temp.append(round((temp1[y] - temp1[y - 1]) / (xValues[index] - xValues[index - (i + 1)]), 5))\n",
    "        index += 1\n",
    "    dividedTable.append(deepcopy(temp))\n",
    "    temp.clear()\n",
    "\n",
    "print(\"\\nThe Table is as follows: \\n\")\n",
    "print (dividedTable)\n"
   ]
  },
  {
   "cell_type": "code",
   "execution_count": 33,
   "metadata": {},
   "outputs": [
    {
     "name": "stdout",
     "output_type": "stream",
     "text": [
      "[6.389, 6.389, 10.932, 10.932, 22.933, 22.933] [13.778, 13.778, 23.365, 23.365, 48.065, 48.065]\n",
      "\n",
      "The Table is as follows: \n",
      "\n",
      "[[0, 0, 3, 3, 5, 5, 8, 8, 13, 13], [0, 0, 225, 225, 383, 383, 623, 623, 993, 993], [79.0, 80.0, 74.0], [], [], [], [], [], [], [], [], []]\n"
     ]
    }
   ],
   "source": [
    "import sympy\n",
    "import numpy as np\n",
    "from math import ceil, e\n",
    "from copy import deepcopy\n",
    "xValues = [1, 1, 1.25, 1.25, 1.6, 1.6]\n",
    "# Assigning x as our variable\n",
    "x = sympy.symbols('x')\n",
    "\n",
    "# Creating our function expression\n",
    "f = (e**(2 * x)) - x\n",
    "fDiff = f\n",
    "# F(x) values\n",
    "yValues = []\n",
    "# F'(x) values\n",
    "yDiffValues = []\n",
    "\n",
    "# Calculating our F(x) and F'(x) values\n",
    "for i in xValues:\n",
    "    yDiffValues.append(round(f.diff(x).subs(x, i), 3))\n",
    "    yValues.append(round(f.subs(x, i), 3))\n",
    "\n",
    "print(yValues, yDiffValues)\n",
    "\n",
    "# Calculating our divided difference table\n",
    "dividedTable = [xValues, yValues]\n",
    "temp = []\n",
    "for i in range(len(xValues)):\n",
    "    temp1 = dividedTable[len(dividedTable) - 1]\n",
    "    index = i + 1\n",
    "    for y in range(1, len(temp1)):\n",
    "        temp.append(round((temp1[y] - temp1[y - 1]) / (xValues[index] - xValues[index - (i + 1)]), 5))\n",
    "        index += 1\n",
    "    dividedTable.append(deepcopy(temp))\n",
    "    temp.clear()\n",
    "\n",
    "print(\"\\nThe Table is as follows: \\n\")\n",
    "print (dividedTable)\n",
    "\n"
   ]
  },
  {
   "cell_type": "code",
   "execution_count": null,
   "metadata": {},
   "outputs": [],
   "source": []
  }
 ],
 "metadata": {
  "interpreter": {
   "hash": "1549ce3063763f935520ac985005088d5bf77a87440f3a3f58b22301df0cff46"
  },
  "kernelspec": {
   "display_name": "Python 3.8.8 ('DIP')",
   "language": "python",
   "name": "python3"
  },
  "language_info": {
   "codemirror_mode": {
    "name": "ipython",
    "version": 3
   },
   "file_extension": ".py",
   "mimetype": "text/x-python",
   "name": "python",
   "nbconvert_exporter": "python",
   "pygments_lexer": "ipython3",
   "version": "3.8.8"
  },
  "orig_nbformat": 4
 },
 "nbformat": 4,
 "nbformat_minor": 2
}
