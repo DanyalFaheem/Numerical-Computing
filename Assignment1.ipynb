{
 "cells": [
  {
   "cell_type": "code",
   "execution_count": 3,
   "metadata": {},
   "outputs": [
    {
     "name": "stdout",
     "output_type": "stream",
     "text": [
      "0 order:  0\n",
      "Error:  100.000000000000\n",
      "1  order:  1.50000000000000\n",
      "Error:  -63.7035001905937\n",
      "2  order:  -0.750000000000000\n",
      "Error:  181.851750095297\n",
      "3  order:  6.00000000000000\n",
      "Error:  -554.814000762375\n",
      "4  order:  -24.3750000000000\n",
      "Error:  2760.18187809715\n"
     ]
    }
   ],
   "source": [
    "import sympy\n",
    "\n",
    "x = sympy.symbols('x')\n",
    "\n",
    "f = sympy.ln(x)\n",
    "f1 = sympy.ln(x)\n",
    "\n",
    "result = f.subs(x, 1)\n",
    "print(\"0 order: \", f.subs(x, 1))\n",
    "print(\"Error: \", ((f1.subs(x, 2.5) - f.subs(x, 1)) / f1.subs(x, 2.5)) * 100)\n",
    "for i in range(1, 5):\n",
    "    f = f.diff(x)\n",
    "    result += (f.subs(x, 1) * (1.5)**i) \n",
    "    print(i, \" order: \", result)\n",
    "    print(\"Error: \", ((f1.subs(x, 2.5) - result) / f1.subs(x, 2.5)) * 100)\n",
    "\n"
   ]
  },
  {
   "cell_type": "code",
   "execution_count": 8,
   "metadata": {},
   "outputs": [
    {
     "name": "stdout",
     "output_type": "stream",
     "text": [
      "Estimated Guess for 20:  168.169365000000\n",
      "Exact Guess for 20:  176.091466320000\n",
      "Estimated Guess for 40:  336.338730000000\n",
      "Exact Guess for 40:  368.678686320000\n"
     ]
    }
   ],
   "source": [
    "T = sympy.symbols('T')\n",
    "\n",
    "\n",
    "A = 0.15\n",
    "e = 0.9\n",
    "o = 5.67*10**-8\n",
    "f = A*e*o*(T**4)\n",
    "diff_f = f.diff(T)\n",
    "estimatedGuessFor20 = diff_f.subs(T, 650) * 20\n",
    "estimatedGuessFor40 = diff_f.subs(T, 650) * 40\n",
    "\n",
    "exactGuessFor20 = f.subs(T, 670) - f.subs(T, 650)\n",
    "exactGuessFor40 = f.subs(T, 690) - f.subs(T, 650)\n",
    "\n",
    "print(\"Estimated Guess for 20: \", estimatedGuessFor20)\n",
    "print(\"Exact Guess for 20: \", exactGuessFor20)\n",
    "print(\"Estimated Guess for 40: \", estimatedGuessFor40)\n",
    "print(\"Exact Guess for 40: \", exactGuessFor40)\n"
   ]
  },
  {
   "cell_type": "code",
   "execution_count": 14,
   "metadata": {},
   "outputs": [
    {
     "name": "stdout",
     "output_type": "stream",
     "text": [
      "Cn: 0.15000000000000002\n",
      "Cn: 0.17500000000000002\n",
      "Cn: 0.16250000000000003\n",
      "Cn: 0.16875\n",
      "Cn: 0.16562500000000002\n"
     ]
    }
   ],
   "source": [
    "import math as m\n",
    "g = 9.81\n",
    "mass = 80\n",
    "t = 4\n",
    "v = 36\n",
    "c = sympy.symbols('c')\n",
    "\n",
    "def func(c):\n",
    "    return m.sqrt((g * mass / c)) * m.tanh(m.sqrt(((g * c)/mass)) * t) - v\n",
    "\n",
    "c0 = 0.1\n",
    "c1 = 0.2\n",
    "\n",
    "\n",
    "while True:\n",
    "    cn = float((c0 + c1) / 2)\n",
    "    print(\"Cn:\", cn)\n",
    "    if abs(((cn - c1) / c1) * 100) < 2:\n",
    "        break\n",
    "    \n",
    "    c0, c1 = c1, cn\n"
   ]
  },
  {
   "cell_type": "code",
   "execution_count": 23,
   "metadata": {},
   "outputs": [
    {
     "name": "stdout",
     "output_type": "stream",
     "text": [
      "Error: 56.5567536499594\n",
      "Error: 0.354733019178174\n",
      "Error: -0.00141109784318239\n"
     ]
    }
   ],
   "source": [
    "x = sympy.symbols('x')\n",
    "\n",
    "W = 1000000\n",
    "Q = 100000\n",
    "K = 0.25\n",
    "V = 100000\n",
    "f = (W-(Q*x)-(K*V*x**0.5))\n",
    "\n",
    "g = (x - ((0.5*x*f.subs(x, x))/(f.subs(x, x+0.5*x) - f.subs(x, x))))\n",
    "\n",
    "x0 = 4\n",
    "for i in range(3):\n",
    "    xn = g.subs(x, x0)\n",
    "    print(\"Error:\", ((xn - x0) / xn) * 100)\n",
    "    x0 = xn"
   ]
  },
  {
   "cell_type": "code",
   "execution_count": null,
   "metadata": {},
   "outputs": [],
   "source": []
  }
 ],
 "metadata": {
  "interpreter": {
   "hash": "1549ce3063763f935520ac985005088d5bf77a87440f3a3f58b22301df0cff46"
  },
  "kernelspec": {
   "display_name": "Python 3.8.8 ('DIP')",
   "language": "python",
   "name": "python3"
  },
  "language_info": {
   "codemirror_mode": {
    "name": "ipython",
    "version": 3
   },
   "file_extension": ".py",
   "mimetype": "text/x-python",
   "name": "python",
   "nbconvert_exporter": "python",
   "pygments_lexer": "ipython3",
   "version": "3.8.8"
  },
  "orig_nbformat": 4
 },
 "nbformat": 4,
 "nbformat_minor": 2
}
