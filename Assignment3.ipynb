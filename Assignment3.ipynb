{
 "cells": [
  {
   "cell_type": "code",
   "execution_count": 1,
   "metadata": {},
   "outputs": [
    {
     "name": "stdout",
     "output_type": "stream",
     "text": [
      "0.0833333333333333*exp(-1) + 0.403287866912284 0.2222222222222222 0.9999999999999999\n",
      "0.0833333333333333*exp(-1) + 0.403287866912284\n",
      "0.0625*exp(-1) + 0.134724473399651 0.16666666666666666 -1.6653345369377348e-16\n",
      "0.348930632734683 0.16666666666666666 0.9999999999999999\n",
      "0.0625*exp(-1) + 0.483655106134334\n",
      "0.0625*exp(-1) + 0.0708498950391534 0.16666666666666666 -0.5000000000000001\n",
      "0.0258743635228989 0.16666666666666666 -5.551115123125783e-17\n",
      "0.0158446717689953 0.16666666666666666 0.5\n",
      "0.287941185207025 0.16666666666666666 0.9999999999999999\n",
      "0.0625*exp(-1) + 0.400510115538072\n",
      "E - 5*exp(-1)\n"
     ]
    }
   ],
   "source": [
    "# Question 1 \n",
    "import sympy\n",
    "import math\n",
    "x = sympy.symbols('x')\n",
    "\n",
    "f = x**2 * (sympy.exp(1) ** x)\n",
    "\n",
    "n = 9\n",
    "\n",
    "h = abs((-1 - 1) / 9)\n",
    "multiplier = -1\n",
    "result = 0\n",
    "for i in range(1, n + 1):\n",
    "    if i == 1 or i == n:\n",
    "        result += f.subs(x, multiplier)\n",
    "    elif i % 3 == 1:\n",
    "        result += 2 * f.subs(x, multiplier)\n",
    "    else:\n",
    "        result += 3 * f.subs(x, multiplier)\n",
    "    multiplier += h\n",
    "result *= ( (3 * h) / 8)\n",
    "print(result, h, multiplier)\n",
    "print(result)\n",
    "\n",
    "\n",
    "n = 6\n",
    "sum = 0\n",
    "h = [abs((-1 - 0) / n),  abs((0 - 1) / n)]\n",
    "ranges = [-1, 0]\n",
    "for j in range(len(h)):\n",
    "    result = 0\n",
    "    multiplier = ranges[j]\n",
    "    for i in range(1, n + 1):\n",
    "        if i == 1 or i == n:\n",
    "            result += f.subs(x, multiplier)\n",
    "        elif i % 3 == 1:\n",
    "            result += 2 * f.subs(x, multiplier)\n",
    "        else:\n",
    "            result += 3 * f.subs(x, multiplier)\n",
    "        multiplier += h[j]\n",
    "    result *= ( (3 * h[j]) / 8)\n",
    "    sum += result\n",
    "    print(result, h[j], multiplier)\n",
    "print(sum)\n",
    "\n",
    "\n",
    "n = 3\n",
    "sum = 0\n",
    "h = [abs((-1 - -0.5) / n),  abs((-0.5 - 0) / n), abs((0 - 0.5) / n), abs((0.5 - 1) / n)]\n",
    "ranges = [-1, -0.5, 0, 0.5]\n",
    "for j in range(len(h)):\n",
    "    result = 0\n",
    "    multiplier = ranges[j]\n",
    "    for i in range(1, n + 1):\n",
    "        if i == 1 or i == n:\n",
    "            result += f.subs(x, multiplier)\n",
    "        elif i % 3 == 1:\n",
    "            result += 2 * f.subs(x, multiplier)\n",
    "        else:\n",
    "            result += 3 * f.subs(x, multiplier)\n",
    "        multiplier += h[j]\n",
    "    result *= ( (3 * h[j]) / 8)\n",
    "    sum += result\n",
    "    print(result, h[j], multiplier)\n",
    "print(sum)\n",
    "\n",
    "f = f.integrate()\n",
    "print(f.subs(x, 1) - f.subs(x, -1))"
   ]
  },
  {
   "cell_type": "code",
   "execution_count": 5,
   "metadata": {},
   "outputs": [
    {
     "name": "stdout",
     "output_type": "stream",
     "text": [
      "0.418879020478639\n",
      "-6.16297582203915e-33\n"
     ]
    }
   ],
   "source": [
    "#Question 2\n",
    "\n",
    "import sympy\n",
    "import math\n",
    "t = sympy.symbols('t')\n",
    "\n",
    "f = (sympy.cos(2 * t) - sympy.cos(3 * t)) / 5\n",
    "\n",
    "n = 2\n",
    "\n",
    "h = math.pi\n",
    "\n",
    "result = 0\n",
    "multiplier = 0\n",
    "for i in range(1, n + 1):\n",
    "    if i == 1 or i == n:\n",
    "        result += f.subs(t, multiplier)\n",
    "    elif i % 2 == 0:\n",
    "        result += 4 * f.subs(t, multiplier)\n",
    "    else:\n",
    "        result += 2 * f.subs(t, multiplier)\n",
    "    multiplier += h\n",
    "result *= (h / 3)\n",
    "print(result)\n",
    "\n",
    "f = f.integrate()\n",
    "print(f.subs(t, 2 * math.pi) - f.subs(t, 0))\n",
    "\n",
    "\n",
    "\n"
   ]
  },
  {
   "cell_type": "code",
   "execution_count": 5,
   "metadata": {},
   "outputs": [
    {
     "name": "stdout",
     "output_type": "stream",
     "text": [
      "9855\n"
     ]
    }
   ],
   "source": [
    "# Question 3\n",
    "\n",
    "import sympy\n",
    "\n",
    "time = [0, 6, 12, 18, 24, 30, 36, 42, 48, 54, 60, 66, 72, 78, 84]\n",
    "speed = [124, 134, 148, 156, 147, 133, 121, 109, 99, 85, 78, 89, 104, 116, 123]\n",
    "\n",
    "h = 3\n",
    "result = 0\n",
    "for i in range(len(time)):\n",
    "    if i == 0 or i == len(time) - 1:\n",
    "        result += speed[i]\n",
    "    else:\n",
    "        result += speed[i] * 2\n",
    "\n",
    "result *= h\n",
    "print(result)\n"
   ]
  },
  {
   "cell_type": "code",
   "execution_count": 10,
   "metadata": {},
   "outputs": [
    {
     "name": "stdout",
     "output_type": "stream",
     "text": [
      "2.33735636163524\n",
      "2.61971658966240\n"
     ]
    }
   ],
   "source": [
    "#Question 4\n",
    "\n",
    "import sympy\n",
    "import math\n",
    "u = sympy.symbols('u')\n",
    "\n",
    "f = u ** -1.5\n",
    "\n",
    "n = 20\n",
    "\n",
    "h = -0.25\n",
    "\n",
    "result = 0\n",
    "multiplier = 10\n",
    "for i in range(1, n + 1):\n",
    "    if i == 1 or i == n:\n",
    "        result += f.subs(u, multiplier)\n",
    "    elif i % 2 == 0:\n",
    "        result += 4 * f.subs(u, multiplier)\n",
    "    else:\n",
    "        result += 2 * f.subs(u, multiplier)\n",
    "    multiplier += h\n",
    "result *= (h / 3)\n",
    "print(result * -10)\n",
    "\n",
    "f = f.integrate()\n",
    "print(-10 * (f.subs(u, 5) - f.subs(u, 10)))\n"
   ]
  },
  {
   "cell_type": "code",
   "execution_count": 4,
   "metadata": {},
   "outputs": [
    {
     "name": "stdout",
     "output_type": "stream",
     "text": [
      "2.09036714091198\n",
      "2.00000000000000\n"
     ]
    }
   ],
   "source": [
    "# Question 5\n",
    "\n",
    "import sympy\n",
    "import math\n",
    "x = sympy.symbols('x')\n",
    "\n",
    "f = sympy.sin(x)\n",
    "\n",
    "h = 0.28\n",
    "\n",
    "n = 12 \n",
    "result = 0\n",
    "for i in range(1, n + 1):\n",
    "    if i == 1 or i == n:\n",
    "        result += f.subs(x, (i / 12) * math.pi)\n",
    "    elif i % 2 == 0:\n",
    "        result += 4 * f.subs(x, (i / 12) * math.pi)\n",
    "    else:\n",
    "        result += 2 * f.subs(x, (i / 12) * math.pi)\n",
    "    \n",
    "result *= (h / 3)\n",
    "print(result)\n",
    "\n",
    "f = f.integrate()\n",
    "print(f.subs(x, math.pi) - f.subs(x, 0))"
   ]
  },
  {
   "cell_type": "code",
   "execution_count": 22,
   "metadata": {},
   "outputs": [
    {
     "name": "stdout",
     "output_type": "stream",
     "text": [
      "[2.24399999999998, 1.12200000000005, 3.36600000000003, 7.85400000000001, 5.61000000000003] [1.9999999999999796, 1.0000000000000453, 3.000000000000025, 7.000000000000006, 5.000000000000027]\n"
     ]
    }
   ],
   "source": [
    "# Question 6\n",
    "\n",
    "import sympy\n",
    "import math\n",
    "i = sympy.symbols('i')\n",
    "\n",
    "h = 0.01\n",
    "time = [1.0, 1.01, 1.02, 1.03, 1.04]\n",
    "I = [3.1, 3.12, 3.14, 3.18, 3.24]\n",
    "\n",
    "En = (0.98 * i) + (0.142 * i)\n",
    "di = []\n",
    "result = []\n",
    "for j in range(3):\n",
    "    dit = ((-3 * I[j]) + (4 * I[j+1]) - I[j+2]) / (2 * h)\n",
    "    di.append(dit)\n",
    "    result.append(En.subs(i, dit))\n",
    "\n",
    "for j in range(4, 2, -1):\n",
    "    dit = abs(((-3 * I[j]) + (4 * I[j-1]) - I[j-2]) / (2 * h))\n",
    "    di.append(dit)\n",
    "    result.append(abs(En.subs(i, dit)))\n",
    "\n",
    "print(result, di)"
   ]
  },
  {
   "cell_type": "code",
   "execution_count": null,
   "metadata": {},
   "outputs": [],
   "source": []
  }
 ],
 "metadata": {
  "interpreter": {
   "hash": "1549ce3063763f935520ac985005088d5bf77a87440f3a3f58b22301df0cff46"
  },
  "kernelspec": {
   "display_name": "Python 3.8.8 ('DIP')",
   "language": "python",
   "name": "python3"
  },
  "language_info": {
   "codemirror_mode": {
    "name": "ipython",
    "version": 3
   },
   "file_extension": ".py",
   "mimetype": "text/x-python",
   "name": "python",
   "nbconvert_exporter": "python",
   "pygments_lexer": "ipython3",
   "version": "3.8.8"
  },
  "orig_nbformat": 4
 },
 "nbformat": 4,
 "nbformat_minor": 2
}
